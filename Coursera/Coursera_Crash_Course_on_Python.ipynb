{
  "nbformat": 4,
  "nbformat_minor": 0,
  "metadata": {
    "colab": {
      "provenance": [],
      "toc_visible": true,
      "authorship_tag": "ABX9TyNSaH194AvZuOwESmB1dZ/5",
      "include_colab_link": true
    },
    "kernelspec": {
      "name": "python3",
      "display_name": "Python 3"
    },
    "language_info": {
      "name": "python"
    }
  },
  "cells": [
    {
      "cell_type": "markdown",
      "metadata": {
        "id": "view-in-github",
        "colab_type": "text"
      },
      "source": [
        "<a href=\"https://colab.research.google.com/github/FerDoranNie/Courses/blob/master/Coursera_Crash_Course_on_Python.ipynb\" target=\"_parent\"><img src=\"https://colab.research.google.com/assets/colab-badge.svg\" alt=\"Open In Colab\"/></a>"
      ]
    },
    {
      "cell_type": "code",
      "execution_count": null,
      "metadata": {
        "colab": {
          "base_uri": "https://localhost:8080/"
        },
        "id": "jfKTCGTq-_pV",
        "outputId": "531a9de5-d39c-4fd3-c189-66c45042f61f"
      },
      "outputs": [
        {
          "output_type": "stream",
          "name": "stdout",
          "text": [
            "Each person needs to pay 27.186\n"
          ]
        }
      ],
      "source": [
        "bill = 47.28\n",
        "tip = bill * 0.15\n",
        "total = bill + tip\n",
        "share = total/2 \n",
        "print(\"Each person needs to pay \" + str(share))"
      ]
    },
    {
      "cell_type": "code",
      "source": [
        "def print_seconds(hours, minutes, seconds):\n",
        "    print((hours*3600)+(minutes*60) +seconds)\n",
        "\n",
        "print_seconds(1,2,3)"
      ],
      "metadata": {
        "colab": {
          "base_uri": "https://localhost:8080/"
        },
        "id": "E6VkIoi2_I19",
        "outputId": "5998a671-3021-4bff-cc92-43cc39767f61"
      },
      "execution_count": null,
      "outputs": [
        {
          "output_type": "stream",
          "name": "stdout",
          "text": [
            "3723\n"
          ]
        }
      ]
    },
    {
      "cell_type": "code",
      "source": [
        "def get_seconds(hours, minutes, seconds):\n",
        "  return 3600*hours + 60*minutes + seconds\n",
        "\n",
        "amount_a = get_seconds(2,30,0)\n",
        "amount_b = get_seconds(0,45,15)\n",
        "result = amount_a + amount_b\n",
        "print(result)"
      ],
      "metadata": {
        "colab": {
          "base_uri": "https://localhost:8080/"
        },
        "id": "iI88kmZc_I89",
        "outputId": "980388c6-fb7a-4d70-d199-a1573c5a7d68"
      },
      "execution_count": null,
      "outputs": [
        {
          "output_type": "stream",
          "name": "stdout",
          "text": [
            "11715\n"
          ]
        }
      ]
    },
    {
      "cell_type": "code",
      "source": [
        "# 1) Complete the function to return the result of the conversion\n",
        "def convert_distance(miles):\n",
        "\tkm = miles * 1.6  # approximately 1.6 km in 1 mile\n",
        "\treturn km\n",
        "my_trip_miles = 55\n",
        "\n",
        "# 2) Convert my_trip_miles to kilometers by calling the function above\n",
        "my_trip_km = convert_distance(my_trip_miles)\n",
        "\n",
        "# 3) Fill in the blank to print the result of the conversion\n",
        "print(\"The distance in kilometers is \" + str(my_trip_km))\n",
        "\n",
        "# 4) Calculate the round-trip in kilometers by doubling the result,\n",
        "#    and fill in the blank to print the result\n",
        "print(\"The round-trip in kilometers is \" + str(my_trip_km*2))"
      ],
      "metadata": {
        "colab": {
          "base_uri": "https://localhost:8080/"
        },
        "id": "QFV_H8JG_I_r",
        "outputId": "ce04fdde-0a21-4da5-f113-5771638f60ee"
      },
      "execution_count": null,
      "outputs": [
        {
          "output_type": "stream",
          "name": "stdout",
          "text": [
            "The distance in kilometers is 88.0\n",
            "The round-trip in kilometers is 176.0\n"
          ]
        }
      ]
    },
    {
      "cell_type": "code",
      "source": [
        "# This function compares two numbers and returns them\n",
        "# in increasing order.\n",
        "def order_numbers(number1, number2):\n",
        "\tif number2 > number1:\n",
        "\t\treturn number1, number2\n",
        "\telse:\n",
        "\t\treturn number2, number1\n",
        "\n",
        "# 1) Fill in the blanks so the print statement displays the result\n",
        "#    of the function call\n",
        "smaller, bigger = order_numbers(100, 99)\n",
        "print(smaller, bigger)"
      ],
      "metadata": {
        "colab": {
          "base_uri": "https://localhost:8080/"
        },
        "id": "sq1sDOJv_JCx",
        "outputId": "53c2c9f5-1701-4b2a-8fc0-af9c07bb040d"
      },
      "execution_count": null,
      "outputs": [
        {
          "output_type": "stream",
          "name": "stdout",
          "text": [
            "99 100\n"
          ]
        }
      ]
    },
    {
      "cell_type": "code",
      "source": [
        "def lucky_number(name):\n",
        "  number = len(name) * 9\n",
        "  message = \"Hello \" + name + \". Your lucky number is \" + str(number)\n",
        "  return message\n",
        "\t    \n",
        "print(lucky_number(\"Kay\"))\n",
        "print(lucky_number(\"Cameron\"))"
      ],
      "metadata": {
        "colab": {
          "base_uri": "https://localhost:8080/"
        },
        "id": "B2lwmXWBNwoU",
        "outputId": "5084b4c2-d783-478a-e3da-4cb482a3f75b"
      },
      "execution_count": null,
      "outputs": [
        {
          "output_type": "stream",
          "name": "stdout",
          "text": [
            "Hello Kay. Your lucky number is 27\n",
            "Hello Cameron. Your lucky number is 63\n"
          ]
        }
      ]
    },
    {
      "cell_type": "code",
      "source": [
        "number = 10\n",
        "\n",
        "if number > 11: \n",
        "  print(0)\n",
        "elif number != 10:\n",
        "  print(1)\n",
        "elif number >= 20 or number < 12:\n",
        "  print(2)\n",
        "else:\n",
        "  print(3)"
      ],
      "metadata": {
        "colab": {
          "base_uri": "https://localhost:8080/"
        },
        "id": "orHFfg3r_JFr",
        "outputId": "2352be21-ba77-4ce8-9824-ae46610e6728"
      },
      "execution_count": null,
      "outputs": [
        {
          "output_type": "stream",
          "name": "stdout",
          "text": [
            "2\n"
          ]
        }
      ]
    },
    {
      "cell_type": "code",
      "source": [
        "def calculate_storage(filesize):\n",
        "    block_size = 4096\n",
        "    # Use floor division to calculate how many blocks are fully occupied\n",
        "    full_blocks = filesize // block_size\n",
        "    # Use the modulo operator to check whether there's any remainder\n",
        "    partial_block_remainder = filesize % block_size\n",
        "    # Depending on whether there's a remainder or not, return\n",
        "    # the total number of bytes required to allocate enough blocks\n",
        "    # to store your data.\n",
        "    if partial_block_remainder > 0:\n",
        "        return block_size*(full_blocks + 1)\n",
        "    return  block_size\n",
        "\n",
        "print(calculate_storage(1))    # Should be 4096\n",
        "print(calculate_storage(4096)) # Should be 4096\n",
        "print(calculate_storage(4097)) # Should be 8192\n",
        "print(calculate_storage(6000)) # Should be 8192\n",
        "\n"
      ],
      "metadata": {
        "colab": {
          "base_uri": "https://localhost:8080/"
        },
        "id": "itKcwFDYT2ck",
        "outputId": "073c4d16-623f-4589-cf84-2e9d5340d627"
      },
      "execution_count": null,
      "outputs": [
        {
          "output_type": "stream",
          "name": "stdout",
          "text": [
            "4096\n",
            "4096\n",
            "8192\n",
            "8192\n"
          ]
        }
      ]
    },
    {
      "cell_type": "code",
      "source": [
        "def color_translator(color):\n",
        "\tif color == \"red\":\n",
        "\t\thex_color = \"#ff0000\"\n",
        "\telif color == \"green\":\n",
        "\t\thex_color = \"#00ff00\"\n",
        "\telif color == \"blue\":\n",
        "\t\thex_color = \"#0000ff\"\n",
        "\telse:\n",
        "\t\thex_color = \"unknown\"\n",
        "\treturn hex_color\n",
        "\n",
        "print(color_translator(\"blue\")) # Should be #0000ff\n",
        "print(color_translator(\"yellow\")) # Should be unknown\n",
        "print(color_translator(\"red\")) # Should be #ff0000\n",
        "print(color_translator(\"black\")) # Should be unknown\n",
        "print(color_translator(\"green\")) # Should be #00ff00\n",
        "print(color_translator(\"\")) # Should be unknown"
      ],
      "metadata": {
        "colab": {
          "base_uri": "https://localhost:8080/"
        },
        "id": "QXx3FuxBT7hf",
        "outputId": "f4ace7c0-4e02-4918-bc02-11bc404ef642"
      },
      "execution_count": null,
      "outputs": [
        {
          "output_type": "stream",
          "name": "stdout",
          "text": [
            "#0000ff\n",
            "unknown\n",
            "#ff0000\n",
            "unknown\n",
            "#00ff00\n",
            "unknown\n"
          ]
        }
      ]
    },
    {
      "cell_type": "code",
      "source": [
        "def exam_grade(score):\n",
        "\tif score>95:\n",
        "\t\tgrade = \"Top Score\"\n",
        "\telif score >= 60:\n",
        "\t\tgrade = \"Pass\"\n",
        "\telse:\n",
        "\t\tgrade = \"Fail\"\n",
        "\treturn grade\n",
        "\n",
        "print(exam_grade(65)) # Should be Pass\n",
        "print(exam_grade(55)) # Should be Fail\n",
        "print(exam_grade(60)) # Should be Pass\n",
        "print(exam_grade(95)) # Should be Pass\n",
        "print(exam_grade(100)) # Should be Top Score\n",
        "print(exam_grade(0)) # Should be Fail"
      ],
      "metadata": {
        "colab": {
          "base_uri": "https://localhost:8080/"
        },
        "id": "6KNf2kruUXer",
        "outputId": "f6d145a1-9d77-4fe0-e9ed-b94d018a1207"
      },
      "execution_count": null,
      "outputs": [
        {
          "output_type": "execute_result",
          "data": {
            "text/plain": [
              "1"
            ]
          },
          "metadata": {},
          "execution_count": 23
        }
      ]
    },
    {
      "cell_type": "code",
      "source": [
        "def format_name(first_name, last_name):\n",
        "\t# code goes here\n",
        "\tif first_name!=\"\" and last_name!=\"\":\n",
        "\t\tstring = \"Name: \" + last_name + \",\" + first_name\n",
        "\telif first_name!=\"\" and last_name==\"\":\n",
        "\t\tstring = \"Name \" + first_name\n",
        "\telif last_name!=\"\" and first_name==\"\":\n",
        "\t\tstring = \"Name \" + last_name\n",
        "\telse:\n",
        "\t\tstring = \"\"\t\n",
        "\treturn string \n",
        "\n",
        "print(format_name(\"Ernest\", \"Hemingway\"))\n",
        "# Should return the string \"Name: Hemingway, Ernest\"\n",
        "\n",
        "print(format_name(\"\", \"Madonna\"))\n",
        "# Should return the string \"Name: Madonna\"\n",
        "\n",
        "print(format_name(\"Voltaire\", \"\"))\n",
        "# Should return the string \"Name: Voltaire\"\n",
        "\n",
        "print(format_name(\"\", \"\"))\n",
        "# Should return an empty string\n"
      ],
      "metadata": {
        "colab": {
          "base_uri": "https://localhost:8080/"
        },
        "id": "I9Ha0blwUEYh",
        "outputId": "93195840-1ea4-4e9c-dc82-558a52395d38"
      },
      "execution_count": null,
      "outputs": [
        {
          "output_type": "execute_result",
          "data": {
            "text/plain": [
              "1"
            ]
          },
          "metadata": {},
          "execution_count": 54
        }
      ]
    },
    {
      "cell_type": "code",
      "source": [
        "def longest_word(word1, word2, word3):\n",
        "\tif len(word1) >= len(word2) and len(word1) >= len(word3):\n",
        "\t\tword = word1\n",
        "\telif len(word2) >= len(word1) and len(word2) >= len(word3):\n",
        "\t\tword = word2\n",
        "\telse:\n",
        "\t\tword = word3\n",
        "\treturn(word)\n",
        "\n",
        "print(longest_word(\"chair\", \"couch\", \"table\"))\n",
        "print(longest_word(\"bed\", \"bath\", \"beyond\"))\n",
        "print(longest_word(\"laptop\", \"notebook\", \"desktop\"))"
      ],
      "metadata": {
        "id": "eFEuFy-7aGUb"
      },
      "execution_count": null,
      "outputs": []
    },
    {
      "cell_type": "code",
      "source": [
        "#The fractional_part function divides the numerator by the denominator, and returns just the fractional part (a number between 0 and 1). Complete the body of the function so that it returns the right number.\n",
        "#Note: Since division by 0 produces an error, if the denominator is 0, the function should return 0 instead of attempting the division.\n",
        "\n",
        "def fractional_part(numerator, denominator):\n",
        "\t# Operate with numerator and denominator to \n",
        "# keep just the fractional part of the quotient\n",
        "\tif denominator>0:\n",
        "\t\treturn (numerator/denominator)-numerator//denominator\n",
        "\telif numerator==0:\n",
        "\t\treturn 0\n",
        "\treturn 0\n",
        "\n",
        "print(fractional_part(5, 5)) # Should be 0\n",
        "print(fractional_part(5, 4)) # Should be 0.25\n",
        "print(fractional_part(5, 3)) # Should be 0.66...\n",
        "print(fractional_part(5, 2)) # Should be 0.5\n",
        "print(fractional_part(5, 0)) # Should be 0\n",
        "print(fractional_part(0, 5)) # Should be 0"
      ],
      "metadata": {
        "colab": {
          "base_uri": "https://localhost:8080/"
        },
        "id": "QALSxoPVaTOK",
        "outputId": "0d06d961-f054-4f60-8da1-a6c549211662"
      },
      "execution_count": null,
      "outputs": [
        {
          "output_type": "stream",
          "name": "stdout",
          "text": [
            "0.0\n",
            "0.25\n",
            "0.6666666666666667\n",
            "0.5\n",
            "0\n",
            "0.0\n"
          ]
        }
      ]
    },
    {
      "cell_type": "code",
      "source": [
        "def fractional_part(numerator, denominator):\n",
        "    # Operate with numerator and denominator to\n",
        "    # keep just the fractional part of the quotient \n",
        "    if denominator == 0 or numerator==denominator or numerator==0:\n",
        "        part = 0\n",
        "    else:\n",
        "        part = (numerator%denominator)/denominator\n",
        "    return part\n"
      ],
      "metadata": {
        "id": "idE28PzQx2M8"
      },
      "execution_count": null,
      "outputs": []
    },
    {
      "cell_type": "code",
      "source": [
        "def count_down(start_number):\n",
        "  current = start_number\n",
        "  while (current > 0):\n",
        "    current -= 1\n",
        "    print(current)\n",
        "  print(\"Zero!\")\n",
        "\n",
        "count_down(3)"
      ],
      "metadata": {
        "colab": {
          "base_uri": "https://localhost:8080/"
        },
        "id": "o6WjsHy7c0bN",
        "outputId": "4e24b418-e738-4341-a589-140353327d35"
      },
      "execution_count": null,
      "outputs": [
        {
          "output_type": "stream",
          "name": "stdout",
          "text": [
            "2\n",
            "1\n",
            "0\n",
            "Zero!\n"
          ]
        }
      ]
    },
    {
      "cell_type": "code",
      "source": [
        "def print_prime_factors(number):\n",
        "  # Start with two, which is the first prime\n",
        "  factor = 2\n",
        "  # Keep going until the factor is larger than the number\n",
        "  while factor <= number:\n",
        "    # Check if factor is a divisor of number\n",
        "    if number % factor == 0:\n",
        "      # If it is, print it and divide the original number\n",
        "      print(factor)\n",
        "      number = number / factor\n",
        "    else:\n",
        "      # If it's not, increment the factor by one\n",
        "      factor = factor +1\n",
        "  return \"Done\"\n",
        "\n",
        "print_prime_factors(100)\n",
        "# Should print 2,2,5,5\n",
        "# DO NOT DELETE THIS COMMENT"
      ],
      "metadata": {
        "colab": {
          "base_uri": "https://localhost:8080/",
          "height": 111
        },
        "id": "oaIV-iKJgE86",
        "outputId": "0037fef1-1a1c-4b02-c108-e0455d01c02f"
      },
      "execution_count": null,
      "outputs": [
        {
          "output_type": "stream",
          "name": "stdout",
          "text": [
            "2\n",
            "2\n",
            "5\n",
            "5\n"
          ]
        },
        {
          "output_type": "execute_result",
          "data": {
            "text/plain": [
              "'Done'"
            ],
            "application/vnd.google.colaboratory.intrinsic+json": {
              "type": "string"
            }
          },
          "metadata": {},
          "execution_count": 5
        }
      ]
    },
    {
      "cell_type": "code",
      "source": [
        "def is_power_of_two(n):\n",
        "  # Check if the number can be divided by two without a remainder\n",
        "  while n % 2 == 0:\n",
        "    n = n / 2\n",
        "    if n==0:\n",
        "      break  \n",
        "  # If after dividing by two the number is 1, it's a power of two\n",
        "  if n == 1:\n",
        "    return True\n",
        "  return False\n",
        "  \n",
        "\n",
        "print(is_power_of_two(0)) # Should be False\n",
        "print(is_power_of_two(1)) # Should be True\n",
        "print(is_power_of_two(8)) # Should be True\n",
        "print(is_power_of_two(9)) # Should be False"
      ],
      "metadata": {
        "colab": {
          "base_uri": "https://localhost:8080/"
        },
        "id": "AWbom52Dgtoa",
        "outputId": "0d97b013-33a7-487e-9c96-b094e25073f8"
      },
      "execution_count": null,
      "outputs": [
        {
          "output_type": "execute_result",
          "data": {
            "text/plain": [
              "1"
            ]
          },
          "metadata": {},
          "execution_count": 8
        }
      ]
    },
    {
      "cell_type": "code",
      "source": [
        "def sum_divisors(n):\n",
        "  sum = 0\n",
        "  while sum < n:\n",
        "    sum = sum +1\n",
        "    if n%sum==0:\n",
        "      sum = sum +1\n",
        "      return sum\n",
        "    elif sum==0:\n",
        "      return 0\n",
        "  # Return the sum of all divisors of n, not including n\n",
        "  \n",
        "\n",
        "print(sum_divisors(0))\n",
        "# 0\n",
        "print(sum_divisors(3)) # Should sum of 1\n",
        "# 1\n",
        "print(sum_divisors(36)) # Should sum of 1+2+3+4+6+9+12+18\n",
        "# 55\n",
        "print(sum_divisors(102)) # Should be sum of 2+3+6+17+34+51\n",
        "# 114\n"
      ],
      "metadata": {
        "id": "aOmtj66_jTjX"
      },
      "execution_count": null,
      "outputs": []
    },
    {
      "cell_type": "code",
      "source": [
        "def multiplication_table(number):\n",
        "\t# Initialize the starting point of the multiplication table\n",
        "\tmultiplier = 1\n",
        "\t# Only want to loop through 5\n",
        "\twhile multiplier <= 5:\n",
        "\t\tresult = number * multiplier \n",
        "\t\t# What is the additional condition to exit out of the loop?\n",
        "\t\tif result>25 :\n",
        "\t\t\tbreak\n",
        "\t\tprint(str(number) + \"x\" + str(multiplier) + \"=\" + str(result))\n",
        "\t\t# Increment the variable for the loop\n",
        "\t\tmultiplier += 1\n",
        "\n",
        "multiplication_table(3) \n",
        "# Should print: 3x1=3 3x2=6 3x3=9 3x4=12 3x5=15\n",
        "\n",
        "multiplication_table(5) \n",
        "# Should print: 5x1=5 5x2=10 5x3=15 5x4=20 5x5=25\n",
        "\n",
        "multiplication_table(8)\t\n",
        "# Should print: 8x1=8 8x2=16 8x3=24"
      ],
      "metadata": {
        "id": "ahs-bkvRjTvq"
      },
      "execution_count": null,
      "outputs": []
    },
    {
      "cell_type": "code",
      "source": [
        "def votes(params):\n",
        "\tfor vote in params:\n",
        "\t    print(\"Possible option:\" + vote)\n",
        "\n",
        "votes(['yes', 'no', 'maybe'])"
      ],
      "metadata": {
        "colab": {
          "base_uri": "https://localhost:8080/"
        },
        "id": "EnnYxQkynQ38",
        "outputId": "4eea3804-d826-4adb-e310-628aacd83e0b"
      },
      "execution_count": null,
      "outputs": [
        {
          "output_type": "stream",
          "name": "stdout",
          "text": [
            "Possible option:yes\n",
            "Possible option:no\n",
            "Possible option:maybe\n"
          ]
        }
      ]
    },
    {
      "cell_type": "code",
      "source": [
        "for x in range(10):\n",
        "    for y in range(x):\n",
        "        print(y)"
      ],
      "metadata": {
        "colab": {
          "base_uri": "https://localhost:8080/"
        },
        "id": "K544l6fkn3y7",
        "outputId": "b80e42bb-e888-4f47-8962-c878f0beba91"
      },
      "execution_count": null,
      "outputs": [
        {
          "output_type": "stream",
          "name": "stdout",
          "text": [
            "0\n",
            "0\n",
            "1\n",
            "0\n",
            "1\n",
            "2\n",
            "0\n",
            "1\n",
            "2\n",
            "3\n",
            "0\n",
            "1\n",
            "2\n",
            "3\n",
            "4\n",
            "0\n",
            "1\n",
            "2\n",
            "3\n",
            "4\n",
            "5\n",
            "0\n",
            "1\n",
            "2\n",
            "3\n",
            "4\n",
            "5\n",
            "6\n",
            "0\n",
            "1\n",
            "2\n",
            "3\n",
            "4\n",
            "5\n",
            "6\n",
            "7\n",
            "0\n",
            "1\n",
            "2\n",
            "3\n",
            "4\n",
            "5\n",
            "6\n",
            "7\n",
            "8\n"
          ]
        }
      ]
    },
    {
      "cell_type": "code",
      "source": [
        "for i in range(1,10,3):\n",
        "  print(i)"
      ],
      "metadata": {
        "colab": {
          "base_uri": "https://localhost:8080/"
        },
        "id": "psZ_n1VKn-GA",
        "outputId": "c601a586-e00b-444e-9a47-a93e5d9bfc8c"
      },
      "execution_count": null,
      "outputs": [
        {
          "output_type": "stream",
          "name": "stdout",
          "text": [
            "1\n",
            "4\n",
            "7\n"
          ]
        }
      ]
    },
    {
      "cell_type": "code",
      "source": [
        "for x in range(6+1):\n",
        "  if x%2==0 and x>0:\n",
        "    print([x%2, x])"
      ],
      "metadata": {
        "id": "Gsk0PJMNpdk2",
        "outputId": "460fcb49-abad-4be4-e77c-cdc03d621348",
        "colab": {
          "base_uri": "https://localhost:8080/"
        }
      },
      "execution_count": null,
      "outputs": [
        {
          "output_type": "stream",
          "name": "stdout",
          "text": [
            "[0, 2]\n",
            "[0, 4]\n",
            "[0, 6]\n"
          ]
        }
      ]
    },
    {
      "cell_type": "markdown",
      "source": [
        "### Third week exam"
      ],
      "metadata": {
        "id": "VU8b9TBK755w"
      }
    },
    {
      "cell_type": "code",
      "source": [
        "for number in (range(5, -1, -1)):\n",
        "    print(number)\n",
        "\n",
        "# Should print:\n",
        "# 5\n",
        "# 4\n",
        "# 3\n",
        "# 2\n",
        "# 1\n",
        "# 0"
      ],
      "metadata": {
        "id": "-iNOtI5685ph"
      },
      "execution_count": null,
      "outputs": []
    },
    {
      "cell_type": "code",
      "source": [
        "number = 1\n",
        "while number <= 7:\n",
        "\tprint(number, end=\" \")\n",
        "\tnumber = number +1"
      ],
      "metadata": {
        "id": "_S2E8w8v75Cc"
      },
      "execution_count": null,
      "outputs": []
    },
    {
      "cell_type": "code",
      "source": [
        "number = 15 # Initialize the variable\n",
        "while abs(number) <= 15 and number >0: # Complete the while loop condition\n",
        "    print(number, end=\" \")\n",
        "    number = number - 5 # Increment the variable"
      ],
      "metadata": {
        "colab": {
          "base_uri": "https://localhost:8080/"
        },
        "id": "Rwxgy0k80WC8",
        "outputId": "e838b059-df0a-42c8-cf10-3794bf0a782e"
      },
      "execution_count": null,
      "outputs": [
        {
          "output_type": "stream",
          "name": "stdout",
          "text": [
            "15 10 5 "
          ]
        }
      ]
    },
    {
      "cell_type": "code",
      "source": [
        "number = 2 # Initialize the variable \n",
        "while number<=12: # Complete the while loop condition\n",
        "    print(number, end=\" \")\n",
        "    number = number +2 # Increment the variable\n",
        "\n",
        "# Should print 2 4 6 8 10 12 "
      ],
      "metadata": {
        "id": "WtCis52L8QuD"
      },
      "execution_count": null,
      "outputs": []
    },
    {
      "cell_type": "code",
      "source": [
        "def show_letters(word):\n",
        "\tfor i in word:\n",
        "\t\tprint(i)\n",
        "\n",
        "show_letters(\"Hello\")\n",
        "# Should print one line per letter"
      ],
      "metadata": {
        "id": "WbGKmaE78BDF"
      },
      "execution_count": null,
      "outputs": []
    },
    {
      "cell_type": "code",
      "source": [
        "def digits(n):\n",
        "\tcount = len(str(n))\n",
        "\treturn count\n",
        "\t\n",
        "print(digits(25))   # Should print 2\n",
        "print(digits(144))  # Should print 3\n",
        "print(digits(1000)) # Should print 4\n",
        "print(digits(0))    # Should print 1"
      ],
      "metadata": {
        "id": "XCtF2Wn175NG"
      },
      "execution_count": null,
      "outputs": []
    },
    {
      "cell_type": "code",
      "source": [
        "def multiplication_table(start, stop):\n",
        "\tfor x in range(start, stop+1):\n",
        "\t\tfor y in range(start, stop+1) :\n",
        "\t\t\tprint(str(x*y), end=\" \")\n",
        "\t\tprint(\"\")\n",
        "\n",
        "multiplication_table(1, 3)\n",
        "# Should print the multiplication table shown above"
      ],
      "metadata": {
        "id": "vzzMSKWU75W0"
      },
      "execution_count": null,
      "outputs": []
    },
    {
      "cell_type": "code",
      "source": [
        "def counter(start, stop):\n",
        "\tx = start\n",
        "\tif start > stop:\n",
        "\t\treturn_string = \"Counting down: \"\n",
        "\t\twhile x >= stop:\n",
        "\t\t\treturn_string += str(x) \n",
        "\t\t\tif x>stop:\n",
        "\t\t\t\treturn_string += \",\"\n",
        "\t\t\tx-= 1\n",
        "\telse:\n",
        "\t\treturn_string = \"Counting up: \"\n",
        "\t\twhile x <= stop:\n",
        "\t\t\treturn_string += str(x)\n",
        "\t\t\tif x<stop:\n",
        "\t\t\t\treturn_string += \",\"\n",
        "\t\t\tx+=1\n",
        "\treturn return_string\n",
        "\n",
        "print(counter(1, 10)) # Should be \"Counting up: 1,2,3,4,5,6,7,8,9,10\"\n",
        "print(counter(2, 1)) # Should be \"Counting down: 2,1\"\n",
        "print(counter(5, 5)) # Should be \"Counting up: 5\""
      ],
      "metadata": {
        "id": "bvSbZG7C-8sB"
      },
      "execution_count": null,
      "outputs": []
    },
    {
      "cell_type": "code",
      "source": [
        "def countdown(start):\n",
        "    x = start\n",
        "    if x > 0:\n",
        "        return_string = \"Counting down to 0: \"\n",
        "        while x<=start and x>0: # Complete the while loop\n",
        "            return_string += str(x) # Add the numbers to the \"return_string\"\n",
        "            if x > 0:\n",
        "                return_string += \",\"\n",
        "            x = x-1 # Decrement the appropriate variable\n",
        "    else:\n",
        "        return_string = \"Cannot count down to 0\"\n",
        "    return return_string\n",
        "\n",
        "print(countdown(10)) # Should be \"Counting down to 0: 10,9,8,7,6,5,4,3,2,1,0\"\n",
        "print(countdown(2)) # Should be \"Counting down to 0: 2,1,0\"\n",
        "print(countdown(0)) # Should be \"Cannot count down to 0\"    "
      ],
      "metadata": {
        "colab": {
          "base_uri": "https://localhost:8080/"
        },
        "id": "fmUqDA-A55Kl",
        "outputId": "f5578b02-cba1-4df6-fd92-0d7803ca7971"
      },
      "execution_count": null,
      "outputs": [
        {
          "output_type": "stream",
          "name": "stdout",
          "text": [
            "Counting down to 0: 10,9,8,7,6,5,4,3,2,1,\n",
            "Counting down to 0: 2,1,\n",
            "Cannot count down to 0\n"
          ]
        }
      ]
    },
    {
      "cell_type": "code",
      "source": [
        "def all_numbers(minimum, maximum):\n",
        "\n",
        "    return_string = \"\" # Initializes variable as a string\n",
        "\n",
        "    # Complete the for loop with a range that includes all \n",
        "    # numbers up to and including the \"maximum\" value.\n",
        "    for x in range(minimum, maximum+1,1):\n",
        "\n",
        "        # Complete the body of the loop by appending the number\n",
        "        # followed by a space to the \"return_string\" variable.\n",
        "        return_string += str(x) + \" \"\n",
        "\n",
        "    # This .strip command will remove the final \" \" space \n",
        "    # at the end of the \"return_string\".\n",
        "    return return_string.strip()\n",
        "\n",
        "\n",
        "print(all_numbers(2,6))  # Should be 2 3 4 5 6\n",
        "print(all_numbers(3,10)) # Should be 3 4 5 6 7 8 9 10\n",
        "print(all_numbers(-1,1)) # Should be -1 0 1\n",
        "print(all_numbers(0,5))  # Should be 0 1 2 3 4 5\n",
        "print(all_numbers(0,0))  # Should be 0"
      ],
      "metadata": {
        "id": "O-Xx8HmO-ppw"
      },
      "execution_count": null,
      "outputs": []
    },
    {
      "cell_type": "code",
      "source": [
        "def even_numbers(maximum):\n",
        "\treturn_string = \"\"\n",
        "\tfor x in range(maximum+1):\n",
        "\t\tif x%2==0 and x>0:\n",
        "\t\t\treturn_string += str(x) + \" \"\n",
        "\treturn return_string.strip()\n",
        "\n",
        "print(even_numbers(6))  # Should be 2 4 6\n",
        "print(even_numbers(10)) # Should be 2 4 6 8 10\n",
        "print(even_numbers(1))  # No numbers displayed\n",
        "print(even_numbers(3))  # Should be 2\n",
        "print(even_numbers(0))  # No numbers displayed"
      ],
      "metadata": {
        "colab": {
          "base_uri": "https://localhost:8080/"
        },
        "id": "DKNEJfB97tta",
        "outputId": "7b2e1769-0a9d-4995-bfb1-550cafbb1c1c"
      },
      "execution_count": null,
      "outputs": [
        {
          "output_type": "stream",
          "name": "stdout",
          "text": [
            "2 4 6\n",
            "2 4 6 8 10\n",
            "\n",
            "2\n",
            "\n"
          ]
        }
      ]
    },
    {
      "cell_type": "code",
      "source": [
        "def even_numbers(n):\n",
        "    count = 0\n",
        "    current_number = 0\n",
        "    while current_number<n: # Complete the while loop condition\n",
        "        if current_number % 2 == 0:\n",
        "            count= count + 1 # Increment the appropriate variable\n",
        "        current_number = current_number +1 # Increment the appropriate variable\n",
        "    return count +1"
      ],
      "metadata": {
        "id": "z_lu3L7t2CeD"
      },
      "execution_count": null,
      "outputs": []
    },
    {
      "cell_type": "code",
      "source": [
        "def rows_asterisks(rows):\n",
        "    # Complete the outer loop range to control the number of rows\n",
        "    for x in range(rows+1): \n",
        "        # Complete the inner loop range to control the number of \n",
        "        # asterisks per row\n",
        "        for y in range(x): \n",
        "            # Prints one asterisk and one space\n",
        "            print(\"*\", end=\" \")\n",
        "        # An empty print() function inserts a line break at the \n",
        "        # end of the row \n",
        "        print()\n",
        "\n",
        "\n",
        "rows_asterisks(5)\n",
        "# Should print the asterisk rows shown above\n"
      ],
      "metadata": {
        "id": "Mr3ZDbB-36zR"
      },
      "execution_count": null,
      "outputs": []
    },
    {
      "cell_type": "code",
      "source": [
        "def first_and_last(message):\n",
        "    len_message = len(message)\n",
        "    if  len(message)==0 or message[0]==message[-1]:\n",
        "        return True \n",
        "    return False\n",
        "\n",
        "print(first_and_last(\"else\"))\n",
        "print(first_and_last(\"tree\"))\n",
        "print(first_and_last(\"\"))"
      ],
      "metadata": {
        "colab": {
          "base_uri": "https://localhost:8080/"
        },
        "id": "1J6qq8xXb6PF",
        "outputId": "8be1d6fa-ff5d-425e-a545-b0b4e7d521a7"
      },
      "execution_count": null,
      "outputs": [
        {
          "output_type": "stream",
          "name": "stdout",
          "text": [
            "True\n",
            "False\n",
            "True\n"
          ]
        }
      ]
    },
    {
      "cell_type": "code",
      "source": [
        "def initials(phrase):\n",
        "    words = phrase.split()\n",
        "    result = \"\"\n",
        "    for word in words:\n",
        "        result += word[0].upper()\n",
        "    return result\n",
        "\n",
        "print(initials(\"Universal Serial Bus\")) # Should be: USB\n",
        "print(initials(\"local area network\")) # Should be: LAN\n",
        "print(initials(\"Operating system\")) # Should be: OS"
      ],
      "metadata": {
        "colab": {
          "base_uri": "https://localhost:8080/"
        },
        "id": "rfoomtnieEZl",
        "outputId": "00c0e2b8-a5a9-4771-d97f-aee2b5924c3e"
      },
      "execution_count": null,
      "outputs": [
        {
          "output_type": "stream",
          "name": "stdout",
          "text": [
            "USB\n",
            "LAN\n",
            "OS\n"
          ]
        }
      ]
    },
    {
      "cell_type": "code",
      "source": [
        "def student_grade(name, grade):\n",
        "\treturn \"{} received {}% on the exam\".format(name, grade)\n",
        "\n",
        "print(student_grade(\"Reed\", 80))\n",
        "print(student_grade(\"Paige\", 92))\n",
        "print(student_grade(\"Jesse\", 85))"
      ],
      "metadata": {
        "id": "6tAEJeWsjLnR"
      },
      "execution_count": null,
      "outputs": []
    },
    {
      "cell_type": "code",
      "source": [
        "Weather = \"Rainfall\"\n",
        "print(Weather[:4])"
      ],
      "metadata": {
        "colab": {
          "base_uri": "https://localhost:8080/"
        },
        "id": "Ltz3H_CfkJRw",
        "outputId": "823085bf-6de1-4f6a-b76a-67df55cf9e37"
      },
      "execution_count": null,
      "outputs": [
        {
          "output_type": "stream",
          "name": "stdout",
          "text": [
            "Rain\n"
          ]
        }
      ]
    },
    {
      "cell_type": "code",
      "source": [
        "def is_palindrome(input_string):\n",
        "\t# We'll create two strings, to compare them\n",
        "\tnew_string = \"\"\n",
        "\treverse_string = \"\"\n",
        "\t# Traverse through each letter of the input string\n",
        "\tfor i in range(len(input_string)):\n",
        "\t\tx = input_string[i].strip()\n",
        "\t\t# Add any non-blank letters to the \n",
        "\t\t# end of one string, and to the front\n",
        "\t\t# of the other string. \n",
        "\t\tif x!=\"\":\n",
        "\t\t\tnew_string = new_string + x.lower()\n",
        "\t\t\treverse_string = x.lower() + reverse_string\n",
        "\t# Compare the strings\n",
        "\tif new_string==reverse_string:\n",
        "\t\treturn True\n",
        "\treturn False\n",
        "\n",
        "print(is_palindrome(\"Never Odd or Even\")) # Should be True\n",
        "print(is_palindrome(\"abc\")) # Should be False\n",
        "print(is_palindrome(\"kayak\")) # Should be True"
      ],
      "metadata": {
        "colab": {
          "base_uri": "https://localhost:8080/"
        },
        "id": "xVrl08Tck95n",
        "outputId": "6c13b7dd-0aa4-492b-e9af-80e0f68e9b34"
      },
      "execution_count": null,
      "outputs": [
        {
          "output_type": "stream",
          "name": "stdout",
          "text": [
            "True\n",
            "False\n",
            "True\n"
          ]
        }
      ]
    },
    {
      "cell_type": "code",
      "source": [
        "def convert_distance(miles):\n",
        "\tkm = miles * 1.6 \n",
        "\tresult = \"{} miles equals {:.2f} km\".format(miles, km)\n",
        "\treturn result\n",
        "\n",
        "print(convert_distance(12)) # Should be: 12 miles equals 19.2 km\n",
        "print(convert_distance(5.5)) # Should be: 5.5 miles equals 8.8 km\n",
        "print(convert_distance(11)) # Should be: 11 miles equals 17.6 km"
      ],
      "metadata": {
        "colab": {
          "base_uri": "https://localhost:8080/"
        },
        "id": "J1LwUN4BlDSD",
        "outputId": "e17dfab6-af84-4dff-c6fd-9cee37a11770"
      },
      "execution_count": null,
      "outputs": [
        {
          "output_type": "stream",
          "name": "stdout",
          "text": [
            "12 miles equals 19.20 km\n",
            "5.5 miles equals 8.80 km\n",
            "11 miles equals 17.60 km\n"
          ]
        }
      ]
    },
    {
      "cell_type": "code",
      "source": [
        "def nametag(first_name, last_name):\n",
        "\tlast_name = last_name[0].upper()\n",
        "\treturn(\"{} {}.\".format(first_name, last_name))\n",
        "\n",
        "print(nametag(\"Jane\", \"Smith\")) \n",
        "# Should display \"Jane S.\" \n",
        "print(nametag(\"Francesco\", \"Rinaldi\")) \n",
        "# Should display \"Francesco R.\" \n",
        "print(nametag(\"Jean-Luc\", \"Grand-Pierre\")) \n",
        "# Should display \"Jean-Luc G.\" "
      ],
      "metadata": {
        "id": "Q0eZcSjuoDk-"
      },
      "execution_count": null,
      "outputs": []
    },
    {
      "cell_type": "code",
      "source": [
        "test = \"It's raining cats and cats\".split()\n",
        "len(test)\n",
        "\n",
        "test[4]\n",
        "#for i in test:\n",
        "#  print(i)"
      ],
      "metadata": {
        "colab": {
          "base_uri": "https://localhost:8080/",
          "height": 35
        },
        "id": "YQvetZx5o8b-",
        "outputId": "ba331051-19c2-4128-cd54-f214746986c8"
      },
      "execution_count": null,
      "outputs": [
        {
          "output_type": "execute_result",
          "data": {
            "text/plain": [
              "'cats'"
            ],
            "application/vnd.google.colaboratory.intrinsic+json": {
              "type": "string"
            }
          },
          "metadata": {},
          "execution_count": 52
        }
      ]
    },
    {
      "cell_type": "code",
      "source": [
        "filenames = [\"program.c\", \"stdio.hpp\", \"sample.hpp\", \"a.out\", \"math.hpp\", \"hpp.out\"]\n",
        "# Generate newfilenames as a list containing the new filenames\n",
        "# using as many lines of code as your chosen method requires.\n",
        "newfilenames=[]\n",
        "for i in filenames:\n",
        "    splitstr = i.split('.')\n",
        "    if splitstr[1]=='hpp':\n",
        "        splitstr[1]='h'\n",
        "    newstr = splitstr[0] + '.'+ splitstr[1]\n",
        "    newfilenames.append(newstr)\n",
        "\n",
        "print(newfilenames) \n",
        "# Should be [\"program.c\", \"stdio.h\", \"sample.h\", \"a.out\", \"math.h\", \"hpp.out\"]"
      ],
      "metadata": {
        "colab": {
          "base_uri": "https://localhost:8080/"
        },
        "id": "7lN3tKspMr6v",
        "outputId": "b49b52d6-2c7e-4b3f-e629-1de98b4b8427"
      },
      "execution_count": null,
      "outputs": [
        {
          "output_type": "stream",
          "name": "stdout",
          "text": [
            "['program.c', 'stdio.h', 'sample.h', 'a.out', 'math.h', 'hpp.out']\n"
          ]
        }
      ]
    },
    {
      "cell_type": "code",
      "source": [
        "def pig_latin(text):\n",
        "  say = \"\"\n",
        "  # Separate the text into words\n",
        "  words = text.split(' ')\n",
        "  for word in words:\n",
        "    # Create the pig latin word and add it to the list\n",
        "    piglatin = word[1:]+ word[0] + 'ay'\n",
        "    say = say + piglatin + ' '\n",
        "    # Turn the list back into a phrase\n",
        "  return say\n",
        "\t\t\n",
        "print(pig_latin(\"hello how are you\")) # Should be \"ellohay owhay reaay ouyay\"\n",
        "print(pig_latin(\"programming in python is fun\")) # Should be \"rogrammingpay niay ythonpay siay unfay\""
      ],
      "metadata": {
        "colab": {
          "base_uri": "https://localhost:8080/"
        },
        "id": "SfXaxltNOx7w",
        "outputId": "25551296-1ca1-41dc-936f-d57512483a60"
      },
      "execution_count": null,
      "outputs": [
        {
          "output_type": "stream",
          "name": "stdout",
          "text": [
            "ellohay owhay reaay ouyay \n",
            "rogrammingpay niay ythonpay siay unfay \n"
          ]
        }
      ]
    },
    {
      "cell_type": "code",
      "source": [
        "def octal_to_string(octal):\n",
        "    result = \"\"\n",
        "    value_letters = [(4,\"r\"),(2,\"w\"),(1,\"x\")]\n",
        "    # Iterate over each of the digits in octal\n",
        "    for ___ in [int(n) for n in str(octal)]:\n",
        "        # Check for each of the permissions values\n",
        "        for value, letter in value_letters:\n",
        "            if ___ >= value:\n",
        "                result += ___\n",
        "                ___ -= value\n",
        "            else:\n",
        "                ___\n",
        "    return result\n",
        "    \n",
        "print(octal_to_string(755)) # Should be rwxr-xr-x\n",
        "print(octal_to_string(644)) # Should be rw-r--r--\n",
        "print(octal_to_string(750)) # Should be rwxr-x---\n",
        "print(octal_to_string(600)) # Should be rw-------"
      ],
      "metadata": {
        "id": "E8euW1kBUkPU"
      },
      "execution_count": null,
      "outputs": []
    },
    {
      "cell_type": "code",
      "source": [
        "def group_list(group, users):\n",
        "  emptystr = ''\n",
        "  for i in users:\n",
        "    if i != users[len(users)-1]:\n",
        "      emptystr = emptystr +  i + ', '\n",
        "    else: \n",
        "      emptystr = emptystr + i\n",
        "    #print(i)\n",
        "  return group + ': '+ emptystr\n",
        "\n",
        "print(group_list(\"Marketing\", [\"Mike\", \"Karen\", \"Jake\", \"Tasha\"])) # Should be \"Marketing: Mike, Karen, Jake, Tasha\"\n",
        "print(group_list(\"Engineering\", [\"Kim\", \"Jay\", \"Tom\"])) # Should be \"Engineering: Kim, Jay, Tom\"\n",
        "print(group_list(\"Users\", \"\")) # Should be \"Users:\""
      ],
      "metadata": {
        "colab": {
          "base_uri": "https://localhost:8080/"
        },
        "id": "BraE6YHPP40L",
        "outputId": "d35a3314-12ce-4773-8cca-42adb816927b"
      },
      "execution_count": null,
      "outputs": [
        {
          "output_type": "stream",
          "name": "stdout",
          "text": [
            "Marketing: Mike, Karen, Jake, Tasha\n",
            "Engineering: Kim, Jay, Tom\n",
            "Users: \n"
          ]
        }
      ]
    },
    {
      "cell_type": "code",
      "source": [
        "def guest_list(guests):\n",
        "\tfor i in guests:\n",
        "\t\tname = i[0]\n",
        "\t\tage = i[1]\n",
        "\t\tprofession = i[2]\n",
        "\t\tprint(\"{} is {} years old and works as a {}\".format(name, age, profession))\n",
        "\n",
        "guest_list([('Ken', 30, \"Chef\"), (\"Pat\", 35, 'Lawyer'), ('Amanda', 25, \"Engineer\")])\n",
        "\n",
        "#Click Run to submit code\n",
        "\"\"\"\n",
        "Output should match:\n",
        "Ken is 30 years old and works as Chef\n",
        "Pat is 35 years old and works as Lawyer\n",
        "Amanda is 25 years old and works as Engineer\n",
        "\"\"\""
      ],
      "metadata": {
        "colab": {
          "base_uri": "https://localhost:8080/",
          "height": 89
        },
        "id": "HdpOZxqcR9Lg",
        "outputId": "22f5a288-6fb3-4312-dc03-7013e86e7bdf"
      },
      "execution_count": null,
      "outputs": [
        {
          "output_type": "stream",
          "name": "stdout",
          "text": [
            "Ken is 30 years old and works as a Chef\n",
            "Pat is 35 years old and works as a Lawyer\n",
            "Amanda is 25 years old and works as a Engineer\n"
          ]
        },
        {
          "output_type": "execute_result",
          "data": {
            "text/plain": [
              "'\\nOutput should match:\\nKen is 30 years old and works as Chef\\nPat is 35 years old and works as Lawyer\\nAmanda is 25 years old and works as Engineer\\n'"
            ],
            "application/vnd.google.colaboratory.intrinsic+json": {
              "type": "string"
            }
          },
          "metadata": {},
          "execution_count": 29
        }
      ]
    },
    {
      "cell_type": "code",
      "source": [],
      "metadata": {
        "id": "WyuPhEP79_Bz"
      },
      "execution_count": null,
      "outputs": []
    },
    {
      "cell_type": "code",
      "source": [
        "x ={\"gmail.com\": [\"clark.kent\", \"diana.prince\", \"peter.parker\"], \"yahoo.com\": [\"barbara.gordon\", \"jean.grey\"], \"hotmail.com\": [\"bruce.wayne\"]}\n",
        "for i in x.items():\n",
        "  print(i)\n",
        "#print(email_list({\"gmail.com\": [\"clark.kent\", \"diana.prince\", \"peter.parker\"], \"yahoo.com\": [\"barbara.gordon\", \"jean.grey\"], \"hotmail.com\": [\"bruce.wayne\"]}))"
      ],
      "metadata": {
        "colab": {
          "base_uri": "https://localhost:8080/"
        },
        "id": "lalnLFJGXBWg",
        "outputId": "6eeeefae-c8b3-4589-80e1-d4f38ffdccba"
      },
      "execution_count": null,
      "outputs": [
        {
          "output_type": "stream",
          "name": "stdout",
          "text": [
            "('gmail.com', ['clark.kent', 'diana.prince', 'peter.parker'])\n",
            "('yahoo.com', ['barbara.gordon', 'jean.grey'])\n",
            "('hotmail.com', ['bruce.wayne'])\n"
          ]
        }
      ]
    },
    {
      "cell_type": "code",
      "source": [
        "wardrobe = {'shirt': ['red', 'blue', 'white'], 'jeans': ['blue', 'black']}\n",
        "new_items = {'jeans': ['white'], 'scarf': ['yellow'], 'socks': ['black', 'brown']}\n",
        "wardrobe.update(new_items)\n",
        "wardrobe"
      ],
      "metadata": {
        "colab": {
          "base_uri": "https://localhost:8080/"
        },
        "id": "PMx0Q_cpXl22",
        "outputId": "d0715764-b4ae-4ef9-b876-7133cde638e3"
      },
      "execution_count": null,
      "outputs": [
        {
          "output_type": "execute_result",
          "data": {
            "text/plain": [
              "{'shirt': ['red', 'blue', 'white'],\n",
              " 'jeans': ['white'],\n",
              " 'scarf': ['yellow'],\n",
              " 'socks': ['black', 'brown']}"
            ]
          },
          "metadata": {},
          "execution_count": 46
        }
      ]
    },
    {
      "cell_type": "code",
      "source": [
        "animal='Hippopotamus'\n",
        "print(animal[3:6])\n",
        "print(animal[-5])\n",
        "print(animal[10:])"
      ],
      "metadata": {
        "colab": {
          "base_uri": "https://localhost:8080/"
        },
        "id": "ODDycPXMYCsU",
        "outputId": "e74f444f-b297-42b9-8b1d-0ea33bebd548"
      },
      "execution_count": null,
      "outputs": [
        {
          "output_type": "stream",
          "name": "stdout",
          "text": [
            "pop\n",
            "t\n",
            "us\n"
          ]
        }
      ]
    },
    {
      "cell_type": "code",
      "source": [
        "x =\"123 Main Street\"\n",
        "x.split(' ')"
      ],
      "metadata": {
        "colab": {
          "base_uri": "https://localhost:8080/"
        },
        "id": "bA1ceEXFZBUW",
        "outputId": "baac5d35-3066-4296-c3fa-4c336df078af"
      },
      "execution_count": null,
      "outputs": [
        {
          "output_type": "execute_result",
          "data": {
            "text/plain": [
              "['123', 'Main', 'Street']"
            ]
          },
          "metadata": {},
          "execution_count": 51
        }
      ]
    },
    {
      "cell_type": "markdown",
      "source": [
        "## 4 exam"
      ],
      "metadata": {
        "id": "e-CjnzIva4oC"
      }
    },
    {
      "cell_type": "code",
      "source": [
        "### Format \n",
        "def format_address(address_string):\n",
        "  # Declare variables\n",
        "  number = ''\n",
        "  direction = ''\n",
        "  # Separate the address string into parts\n",
        "  string_parts = address_string.split(' ')\n",
        "  # Traverse through the address parts\n",
        "  for i in string_parts:\n",
        "    # Determine if the address part is the\n",
        "    # house number or part of the street name\n",
        "    if i==string_parts[0]:\n",
        "      number = i\n",
        "    else:\n",
        "      direction = direction + i + ' '\n",
        "  # Does anything else need to be done \n",
        "  # before returning the result?\n",
        "  \n",
        "  # Return the formatted string  \n",
        "  return \"house number {} on street named {}\".format(number, direction)\n",
        "\n",
        "print(format_address(\"123 Main Street\"))\n",
        "# Should print: \"house number 123 on street named Main Street\"\n",
        "\n",
        "print(format_address(\"1001 1st Ave\"))\n",
        "# Should print: \"house number 1001 on street named 1st Ave\"\n",
        "\n",
        "print(format_address(\"55 North Center Drive\"))\n",
        "# Should print \"house number 55 on street named North Center Drive\"\n"
      ],
      "metadata": {
        "colab": {
          "base_uri": "https://localhost:8080/"
        },
        "id": "M2haEoGUY84K",
        "outputId": "6b77a6fb-3cb0-4d36-8748-a0b3099fda7e"
      },
      "execution_count": null,
      "outputs": [
        {
          "output_type": "stream",
          "name": "stdout",
          "text": [
            "house number 123 on street named Main Street \n",
            "house number 1001 on street named 1st Ave \n",
            "house number 55 on street named North Center Drive \n"
          ]
        }
      ]
    },
    {
      "cell_type": "code",
      "source": [
        "def highlight_word(sentence, word):\n",
        "  words = ''\n",
        "  sentence_split = sentence.split(' ')\n",
        "  print(sentence_split)\n",
        "  for i in sentence_split:\n",
        "    if i + '!' == word +'!':\n",
        "      i = i.upper() + '!'\n",
        "    elif i == word:\n",
        "      i = i.upper()\n",
        "    words = words + i + ' '\n",
        "  return(words)\n",
        "\n",
        "print(highlight_word(\"Have a nice day\", \"nice\"))\n",
        "print(highlight_word(\"Shhh, don't be so loud!\", \"loud\"))\n",
        "print(highlight_word(\"Automating with Python is fun\", \"fun\"))\n"
      ],
      "metadata": {
        "colab": {
          "base_uri": "https://localhost:8080/"
        },
        "id": "Mb_ZqJDda8K5",
        "outputId": "7e36b2df-1ed0-4544-b3ce-565dd470faf1"
      },
      "execution_count": null,
      "outputs": [
        {
          "output_type": "stream",
          "name": "stdout",
          "text": [
            "['Have', 'a', 'nice', 'day']\n",
            "Have a NICE! day \n",
            "['Shhh,', \"don't\", 'be', 'so', 'loud!']\n",
            "Shhh, don't be so loud! \n",
            "['Automating', 'with', 'Python', 'is', 'fun']\n",
            "Automating with Python is FUN! \n"
          ]
        }
      ]
    },
    {
      "cell_type": "code",
      "source": [
        "def combine_lists(list1, list2):\n",
        "  # Generate a new list containing the elements of list2\n",
        "  # Followed by the elements of list1 in reverse order\n",
        "  list1.reverse()\n",
        "  joinedlist= list2 + list1\n",
        "  return joinedlist\n",
        "\t\n",
        "Jamies_list = [\"Alice\", \"Cindy\", \"Bobby\", \"Jan\", \"Peter\"]\n",
        "Drews_list = [\"Mike\", \"Carol\", \"Greg\", \"Marcia\"]\n",
        "print(combine_lists(Jamies_list, Drews_list))"
      ],
      "metadata": {
        "colab": {
          "base_uri": "https://localhost:8080/"
        },
        "id": "l-TyIXyubPZA",
        "outputId": "25b4ca3c-7e2e-4958-e0f0-5a161906e9b7"
      },
      "execution_count": null,
      "outputs": [
        {
          "output_type": "stream",
          "name": "stdout",
          "text": [
            "['Mike', 'Carol', 'Greg', 'Marcia', 'Peter', 'Jan', 'Bobby', 'Cindy', 'Alice']\n"
          ]
        }
      ]
    },
    {
      "cell_type": "code",
      "source": [
        "def squares(start, end):\n",
        "  return [x**2 for x in range(start, end+1)]\n",
        "\n",
        "print(squares(2, 3)) # Should be [4, 9]\n",
        "print(squares(1, 5)) # Should be [1, 4, 9, 16, 25]\n",
        "print(squares(0, 10)) # Should be [0, 1, 4, 9, 16, 25, 36, 49, 64, 81, 100]\n",
        "  "
      ],
      "metadata": {
        "colab": {
          "base_uri": "https://localhost:8080/"
        },
        "id": "MhnHC2RLehJ3",
        "outputId": "bd047873-cdd0-49d6-9d6d-3cdf44879388"
      },
      "execution_count": null,
      "outputs": [
        {
          "output_type": "stream",
          "name": "stdout",
          "text": [
            "[4, 9]\n",
            "[1, 4, 9, 16, 25]\n",
            "[0, 1, 4, 9, 16, 25, 36, 49, 64, 81, 100]\n"
          ]
        }
      ]
    },
    {
      "cell_type": "code",
      "source": [
        "def car_listing(car_prices):\n",
        "  result = \"\"\n",
        "  for i in car_prices.items():\n",
        "    car = i[0]\n",
        "    price = i[1]\n",
        "    result += \"{} costs {} dollars\".format(car, price) + \"\\n\"\n",
        "  return result\n",
        "\n",
        "print(car_listing({\"Kia Soul\":19000, \"Lamborghini Diablo\":55000, \"Ford Fiesta\":13000, \"Toyota Prius\":24000}))"
      ],
      "metadata": {
        "colab": {
          "base_uri": "https://localhost:8080/"
        },
        "id": "bDcvJXQjhmS5",
        "outputId": "65828a2a-9fe7-4e52-e373-075aba1630dd"
      },
      "execution_count": null,
      "outputs": [
        {
          "output_type": "stream",
          "name": "stdout",
          "text": [
            "Kia Soul costs 19000 dollars\n",
            "Lamborghini Diablo costs 55000 dollars\n",
            "Ford Fiesta costs 13000 dollars\n",
            "Toyota Prius costs 24000 dollars\n",
            "\n"
          ]
        }
      ]
    },
    {
      "cell_type": "code",
      "source": [
        "def combine_guests(guests1, guests2):\n",
        "  # Combine both dictionaries into one, with each key listed \n",
        "  # only once, and the value from guests1 taking precedence\n",
        "  combined_dict = {\n",
        "    key: guests1.get(key, 0) + guests2.get(key, 0) for key in guests2\n",
        "  }\n",
        "  return combined_dict\n",
        "\n",
        "Rorys_guests = { \"Adam\":2, \"Brenda\":3, \"David\":1, \"Jose\":3, \"Charlotte\":2, \"Terry\":1, \"Robert\":4}\n",
        "Taylors_guests = { \"David\":4, \"Nancy\":1, \"Robert\":2, \"Adam\":1, \"Samantha\":3, \"Chris\":5}\n",
        "\n",
        "print(combine_guests(Rorys_guests, Taylors_guests))\n"
      ],
      "metadata": {
        "id": "SySRqizyh8BC",
        "colab": {
          "base_uri": "https://localhost:8080/"
        },
        "outputId": "b180a433-a67b-44ac-9f4d-4e63612c5c62"
      },
      "execution_count": 21,
      "outputs": [
        {
          "output_type": "stream",
          "name": "stdout",
          "text": [
            "{'David': 5, 'Nancy': 1, 'Robert': 6, 'Adam': 3, 'Samantha': 3, 'Chris': 5}\n"
          ]
        }
      ]
    },
    {
      "cell_type": "code",
      "source": [
        "def count_letters(text):\n",
        "  text= text.lower()\n",
        "  newtext= ''.join(filter(str.isalpha, text))\n",
        "  print(newtext)\n",
        "  # result = {x:text.count(x) for x in set(newtext)}\n",
        "  result = {x:text.count(x) for x in (newtext)}\n",
        "  #result = {key: value for key, value in sorted(result.items())}\n",
        "  # Go through each letter in the text\n",
        "  #for letter in newtext.split(' '):\n",
        "    # Check if the letter needs to be counted or not\n",
        "  #  print(letter)\n",
        "    # Add or increment the value in the dictionary\n",
        "  return result\n",
        "\n",
        "print(count_letters(\"AaBbCc\"))\n",
        "# Should be {'a': 2, 'b': 2, 'c': 2}\n",
        "\n",
        "print(count_letters(\"Math is fun! 2+2=4\"))\n",
        "# Should be {'m': 1, 'a': 1, 't': 1, 'h': 1, 'i': 1, 's': 1, 'f': 1, 'u': 1, 'n': 1}\n",
        "\n",
        "print(count_letters(\"This is a sentence.\"))\n",
        "# Should be {'t': 2, 'h': 1, 'i': 2, 's': 3, 'a': 1, 'e': 3, 'n': 2, 'c': 1}"
      ],
      "metadata": {
        "colab": {
          "base_uri": "https://localhost:8080/"
        },
        "id": "yZX7p9dUjJkj",
        "outputId": "1a2ab9bc-3b1a-473a-ea5d-2648f52e03aa"
      },
      "execution_count": null,
      "outputs": [
        {
          "output_type": "stream",
          "name": "stdout",
          "text": [
            "aabbcc\n",
            "{'a': 2, 'b': 2, 'c': 2}\n",
            "mathisfun\n",
            "{'m': 1, 'a': 1, 't': 1, 'h': 1, 'i': 1, 's': 1, 'f': 1, 'u': 1, 'n': 1}\n",
            "thisisasentence\n",
            "{'t': 2, 'h': 1, 'i': 2, 's': 3, 'a': 1, 'e': 3, 'n': 2, 'c': 1}\n"
          ]
        }
      ]
    },
    {
      "cell_type": "code",
      "source": [
        "x = \"This is a sentence.\"\n",
        "x = x.lower()\n",
        "x"
      ],
      "metadata": {
        "colab": {
          "base_uri": "https://localhost:8080/",
          "height": 35
        },
        "id": "y6RIf0wxk6J6",
        "outputId": "96b24a53-e39e-405c-a162-d8e11ec8364e"
      },
      "execution_count": null,
      "outputs": [
        {
          "output_type": "execute_result",
          "data": {
            "text/plain": [
              "'this is a sentence.'"
            ],
            "application/vnd.google.colaboratory.intrinsic+json": {
              "type": "string"
            }
          },
          "metadata": {},
          "execution_count": 97
        }
      ]
    },
    {
      "cell_type": "code",
      "source": [
        "'''\n",
        "Pregunta 1\n",
        "Fill in the blanks to complete the “confirm_length” function. This function should return how many characters a string contains as long as it has one or more characters, otherwise it will return 0. Complete the string operations needed in this function so that input like \"Monday\" will produce the output \"6\".\n",
        "'''\n",
        "\n",
        "def confirm_length(word):\n",
        "\n",
        "    # Complete the condition statement using a string operation. \n",
        "    if len(word)>0: \n",
        "        # Complete the return statement using a string operation.\n",
        "        return len(word) \n",
        "    else:\n",
        "        return 0\n",
        "\n",
        "\n",
        "print(confirm_length(\"a\")) # Should print 1\n",
        "print(confirm_length(\"This is a long string\")) # Should print 21\n",
        "print(confirm_length(\"Monday\")) # Should print 6\n",
        "print(confirm_length(\"\")) # Should print 0\n",
        "\n",
        "\n",
        "\n",
        "\n"
      ],
      "metadata": {
        "id": "0Ad6GSKKAvU3"
      },
      "execution_count": null,
      "outputs": []
    },
    {
      "cell_type": "code",
      "source": [
        "'''\n",
        "Pregunta 2\n",
        "Fill in the blank to complete the “string_words” function. This function should split up the words in the given “string” and return the number of words in the “string”.  Complete the string operation and method needed in this function so that a function call like \"string_words(\"Hello, World\")\" will return the output \"2\".\n",
        "'''\n",
        "def string_words(string):\n",
        "    # Complete the return statement using both a string operation and \n",
        "    # a string method in a single line.\n",
        "    return len(string.split(\" \"))\n",
        "\n",
        "\n",
        "print(string_words(\"Hello, World\")) # Should print 2\n",
        "print(string_words(\"Python is awesome\")) # Should print 3\n",
        "print(string_words(\"Keep going\")) # Should print 2\n",
        "print(string_words(\"Have a nice day\")) # Should print 4"
      ],
      "metadata": {
        "colab": {
          "base_uri": "https://localhost:8080/"
        },
        "id": "U7FY0Ptcr6E_",
        "outputId": "04a8f670-2197-488e-f75e-ea2b52c91cba"
      },
      "execution_count": 9,
      "outputs": [
        {
          "output_type": "stream",
          "name": "stdout",
          "text": [
            "2\n",
            "3\n",
            "2\n",
            "4\n"
          ]
        }
      ]
    },
    {
      "cell_type": "code",
      "source": [
        "'''\n",
        "Pregunta 3\n",
        "\n",
        "Consider the following scenario about using Python lists: \n",
        "\n",
        "Employees at a company shared  the distance they drive to work (in miles) through an online survey. These distances were automatically added by Python to a list called “distances” in the order that each employee submitted their distance. Management wants the list to be sorted in the order of the longest distance to the shortest distance. \n",
        "\n",
        "Complete the function to sort the “distances” list. This function should:\n",
        "\n",
        "    sort the given “distances” list, passed through the function’s parameters; ; \n",
        "\n",
        "    reverse the sort order so that it goes from the longest to the shortest distance;\n",
        "\n",
        "    return the modified “distances” list.\n",
        "'''\n",
        "def sort_distance(distances):\n",
        "    distances.sort() # Sort the list\n",
        "    distances.sort(reverse=True) # Reverse the order of the list\n",
        "    return distances\n",
        "\n",
        "\n",
        "print(sort_distance([2,4,0,15,8,9]))\n",
        "# Should print [15, 9, 8, 4, 2, 0]\n",
        "\n",
        "\n"
      ],
      "metadata": {
        "colab": {
          "base_uri": "https://localhost:8080/"
        },
        "id": "10Zr1Kx4f-pl",
        "outputId": "9b329c07-a947-41ee-82f0-2eb714a8842f"
      },
      "execution_count": 20,
      "outputs": [
        {
          "output_type": "stream",
          "name": "stdout",
          "text": [
            "[15, 9, 8, 4, 2, 0]\n"
          ]
        }
      ]
    },
    {
      "cell_type": "code",
      "source": [
        "'''\n",
        "Pregunta 4\n",
        "Fill in the blank to complete the “even_numbers” function. This function should use a list comprehension to create a list of even numbers using a conditional if statement with the modulo operator to test for numbers evenly divisible by 2. The function receives two variables and should return the list of even numbers that occur between the “first” and “last” variables exclusively (meaning don’t modify the default behavior of the range to exclude the “end” value in the range). For example, even_numbers(2, 7) should return [2, 4, 6].  \n",
        "'''\n",
        "\n",
        "def even_numbers(first, last):\n",
        "  return [x for x in range(first, last) if x%2==0]\n",
        "\n",
        "\n",
        "print(even_numbers(4, 14)) # Should print [4, 6, 8, 10, 12]\n",
        "print(even_numbers(0, 9))  # Should print [0, 2, 4, 6, 8]\n",
        "print(even_numbers(2, 7))  # Should print [2, 4, 6]"
      ],
      "metadata": {
        "id": "mVqi6a0niiCT"
      },
      "execution_count": null,
      "outputs": []
    },
    {
      "cell_type": "code",
      "source": [
        "'''\n",
        "Pregunta 5\n",
        "\n",
        "Fill in the blanks to complete the “car_listing” function. This function accepts a “car_prices” dictionary. It should iterate through the keys (car models) and values (car prices) in that dictionary. For each item pair, the function should format a string so that a dictionary entry like ““Kia Soul“:19000” will print \"A Kia Soul costs 19000 dollars\". Each new string should appear on its own line.\n",
        "'''\n",
        "def car_listing(car_prices):\n",
        "  result = \"\"\n",
        "  # Complete the for loop to iterate through the key and value items \n",
        "  # in the dictionary.\n",
        "  for i in car_prices.items():\n",
        "    car = i[0]\n",
        "    price = i[1]\n",
        "    result += \"{} costs {} dollars\".format(car, price) + \"\\n\" # Use a string method to format the required string. \n",
        "  return result\n",
        "\n",
        "print(car_listing({\"Kia Soul\":19000, \"Lamborghini Diablo\":55000, \"Ford Fiesta\":13000, \"Toyota Prius\":24000}))\n"
      ],
      "metadata": {
        "id": "eIJYt2bIkl5J"
      },
      "execution_count": null,
      "outputs": []
    },
    {
      "cell_type": "code",
      "source": [
        "'''\n",
        "Consider the following scenario about using Python dictionaries: \n",
        "\n",
        "Tessa and Rick are hosting a party. Both sent out invitations to their friends, and each one collected responses into dictionaries, with names of their friends and how many guests each friend was bringing. Each dictionary is a partial guest list, but Rick's guest list has more current information about the number of guests. \n",
        "\n",
        "Complete the function to combine both dictionaries into one, with each friend listed only once, and the number of guests from Rick's dictionary taking precedence, if a name is included in both dictionaries. Then print the resulting dictionary. This function should:\n",
        "\n",
        "    accept two dictionaries through the function’s parameters;\n",
        "\n",
        "    combine both dictionaries into one, with each key listed only once;\n",
        "\n",
        "    the values from the “guests1” dictionary taking precedence, if a key is included in both dictionaries;\n",
        "\n",
        "    then print the new dictionary of combined items.\n",
        "'''\n",
        "\n",
        "\n",
        "\n",
        "\n"
      ],
      "metadata": {
        "id": "WUWxH0VNksL8"
      },
      "execution_count": null,
      "outputs": []
    },
    {
      "cell_type": "code",
      "source": [
        "'''\n",
        "Pregunta 7\n",
        "\n",
        "Use a dictionary to count the frequency of numbers in the given “text” string. Only numbers should be counted. Do not count blank spaces, letters, or punctuation. Complete the function so that input like \"1001000111101\" will return a dictionary that holds the count of each number that occurs in the string  {'1': 7, '0': 6}. This function should: \n",
        "\n",
        "    accept a string “text” variable through the function’s parameters;\n",
        "\n",
        "    initialize an new dictionary;\n",
        "\n",
        "    iterate over each text character to check if the character is a number’\n",
        "\n",
        "    count the frequency of numbers in the input string, ignoring all other characters;\n",
        "\n",
        "    populate the new dictionary with the numbers as keys, ensuring each key is unique, and assign the value for each key with the count of that number;\n",
        "\n",
        "    return the new dictionary.\n",
        "'''\n",
        "def count_numbers(text):\n",
        "  newtext = ''.join(filter(str.isnumeric, text))\n",
        "  print(newtext)\n",
        "  result = {x:text.count(x) for x in (newtext)}\n",
        "  # Initialize a new dictionary.\n",
        "  #dictionary = {} \n",
        "  # Complete the for loop to iterate through each \"text\" character.\n",
        "  #for ___\n",
        "    # Complete the if-statement using a string method to check if the\n",
        "    # character is a number.\n",
        "  #  if___:\n",
        "      # Complete the if-statement using a logical operator to check if \n",
        "      # the number is not already in the dictionary.\n",
        "  #    if ___:\n",
        "           # Use a dictionary operation to add the number as a key\n",
        "           # and set the initial count value to zero.\n",
        "  #         ___\n",
        "      # Use a dictionary operation to increment the number count value \n",
        "      # for the existing key.\n",
        "  #    ___\n",
        "  return result\n",
        "\n",
        "print(count_numbers(\"1001000111101\"))\n",
        "# Should be {'1': 7, '0': 6}\n",
        "\n",
        "print(count_numbers(\"Math is fun! 2+2=4\"))\n",
        "# Should be {'2': 2, '4': 1}\n",
        "\n",
        "print(count_numbers(\"This is a sentence.\"))\n",
        "# Should be {}\n",
        "\n",
        "print(count_numbers(\"55 North Center Drive\"))\n",
        "# Should be {'5': 2}"
      ],
      "metadata": {
        "id": "d85-s-zAnh-b"
      },
      "execution_count": null,
      "outputs": []
    },
    {
      "cell_type": "markdown",
      "source": [
        "Extras\n"
      ],
      "metadata": {
        "id": "FKiFuCOtAHAb"
      }
    },
    {
      "cell_type": "code",
      "source": [
        "prime_numbers = [11, 3, 7, 5, 2]\n",
        "\n",
        "\n",
        "# sorting the list in ascending order\n",
        "prime_numbers.sort()\n",
        "\n",
        "\n",
        "print(prime_numbers)"
      ],
      "metadata": {
        "colab": {
          "base_uri": "https://localhost:8080/"
        },
        "id": "j3GP1YV_g0IX",
        "outputId": "43477550-6615-4e16-bdea-4c746d91ece6"
      },
      "execution_count": 17,
      "outputs": [
        {
          "output_type": "stream",
          "name": "stdout",
          "text": [
            "[2, 3, 5, 7, 11]\n"
          ]
        }
      ]
    }
  ]
}